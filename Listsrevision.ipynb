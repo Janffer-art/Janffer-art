{
  "metadata": {
    "kernelspec": {
      "name": "python",
      "display_name": "Python (Pyodide)",
      "language": "python"
    },
    "language_info": {
      "codemirror_mode": {
        "name": "python",
        "version": 3
      },
      "file_extension": ".py",
      "mimetype": "text/x-python",
      "name": "python",
      "nbconvert_exporter": "python",
      "pygments_lexer": "ipython3",
      "version": "3.8"
    }
  },
  "nbformat_minor": 4,
  "nbformat": 4,
  "cells": [
    {
      "cell_type": "markdown",
      "source": "##Slicing Lists",
      "metadata": {}
    },
    {
      "cell_type": "code",
      "source": "squares=[1,2,3,4,5,5,6,7]\nprint(squares)",
      "metadata": {
        "trusted": true
      },
      "outputs": [
        {
          "name": "stdout",
          "text": "[1, 2, 3, 4, 5, 5, 6, 7]\n",
          "output_type": "stream"
        }
      ],
      "execution_count": 10
    },
    {
      "cell_type": "code",
      "source": "squares[0:4]",
      "metadata": {
        "trusted": true
      },
      "outputs": [
        {
          "execution_count": 11,
          "output_type": "execute_result",
          "data": {
            "text/plain": "[1, 2, 3, 4]"
          },
          "metadata": {}
        }
      ],
      "execution_count": 11
    },
    {
      "cell_type": "markdown",
      "source": "###For loop ",
      "metadata": {}
    },
    {
      "cell_type": "code",
      "source": "for num in squares[:4]:\n    print (num**2)",
      "metadata": {
        "trusted": true
      },
      "outputs": [
        {
          "name": "stdout",
          "text": "1\n4\n9\n16\n",
          "output_type": "stream"
        }
      ],
      "execution_count": 14
    },
    {
      "cell_type": "markdown",
      "source": "#copy of alist",
      "metadata": {}
    },
    {
      "cell_type": "code",
      "source": "squares_copy=squares[:]",
      "metadata": {
        "trusted": true
      },
      "outputs": [],
      "execution_count": 15
    },
    {
      "cell_type": "code",
      "source": "squares_copy",
      "metadata": {
        "trusted": true
      },
      "outputs": [
        {
          "execution_count": 16,
          "output_type": "execute_result",
          "data": {
            "text/plain": "[1, 2, 3, 4, 5, 5, 6, 7]"
          },
          "metadata": {}
        }
      ],
      "execution_count": 16
    },
    {
      "cell_type": "markdown",
      "source": "###Indentation Errors",
      "metadata": {}
    },
    {
      "cell_type": "code",
      "source": "##Indentation errors\nnames =['Nancy', 'Bernad', 'Joshua', 'Fala', 'Harriet']\nprint(names)",
      "metadata": {
        "trusted": true
      },
      "outputs": [
        {
          "name": "stdout",
          "text": "['Nancy', 'Bernad', 'Joshua', 'Fala', 'Harriet']\n",
          "output_type": "stream"
        }
      ],
      "execution_count": 23
    },
    {
      "cell_type": "markdown",
      "source": "##create a for loop",
      "metadata": {}
    },
    {
      "cell_type": "code",
      "source": "##Desired outcome/correct code\nfor name in names:\n    print(f'{name}, thank you for your support.')\nprint('Thank you team')",
      "metadata": {
        "trusted": true
      },
      "outputs": [
        {
          "name": "stdout",
          "text": "Nancy, thank you for your support.\nBernad, thank you for your support.\nJoshua, thank you for your support.\nFala, thank you for your support.\nHarriet, thank you for your support.\nThank you team\n",
          "output_type": "stream"
        }
      ],
      "execution_count": 26
    },
    {
      "cell_type": "code",
      "source": "##Scenarios on indentation error\nfor name in names:\nprint(f'{name}, thank you for your support.')\nprint('Thank you team')",
      "metadata": {
        "trusted": true
      },
      "outputs": [
        {
          "ename": "<class 'IndentationError'>",
          "evalue": "expected an indented block after 'for' statement on line 1 (<ipython-input-27-1927de15325a>, line 2)",
          "traceback": [
            "\u001b[0;36m  Cell \u001b[0;32mIn[27], line 2\u001b[0;36m\u001b[0m\n\u001b[0;31m    print(f'{name}, thank you for your support.')\u001b[0m\n\u001b[0m    ^\u001b[0m\n\u001b[0;31mIndentationError\u001b[0m\u001b[0;31m:\u001b[0m expected an indented block after 'for' statement on line 1\n"
          ],
          "output_type": "error"
        }
      ],
      "execution_count": 27
    },
    {
      "cell_type": "code",
      "source": "##Scenarios of indentation error-logical error; they dont prfoduce desired results\nfor name in names:\n    print(f'{name}, thank you for your support.')\n    print('Thank you team')",
      "metadata": {
        "trusted": true
      },
      "outputs": [
        {
          "name": "stdout",
          "text": "Nancy, thank you for your support.\nThank you team\nBernad, thank you for your support.\nThank you team\nJoshua, thank you for your support.\nThank you team\nFala, thank you for your support.\nThank you team\nHarriet, thank you for your support.\nThank you team\n",
          "output_type": "stream"
        }
      ],
      "execution_count": 28
    },
    {
      "cell_type": "code",
      "source": "##Scenarios on indentation error-syntax error e.g when you forget to add a colon\nfor name in names\nprint(f'{name}, thank you for your support.')\nprint('Thank you team')",
      "metadata": {
        "trusted": true
      },
      "outputs": [
        {
          "ename": "<class 'SyntaxError'>",
          "evalue": "expected ':' (<ipython-input-29-6531ca0f5ff7>, line 2)",
          "traceback": [
            "\u001b[0;36m  Cell \u001b[0;32mIn[29], line 2\u001b[0;36m\u001b[0m\n\u001b[0;31m    for name in names\u001b[0m\n\u001b[0m                     ^\u001b[0m\n\u001b[0;31mSyntaxError\u001b[0m\u001b[0;31m:\u001b[0m expected ':'\n"
          ],
          "output_type": "error"
        }
      ],
      "execution_count": 29
    },
    {
      "cell_type": "markdown",
      "source": "###Numerical Lists and List Comprehension",
      "metadata": {}
    },
    {
      "cell_type": "code",
      "source": "#The Range function-Helps in creating sequences in lists\n##the fastest way to create a list is list comprehension\nrange(0,9)",
      "metadata": {
        "trusted": true
      },
      "outputs": [
        {
          "execution_count": 30,
          "output_type": "execute_result",
          "data": {
            "text/plain": "range(0, 9)"
          },
          "metadata": {}
        }
      ],
      "execution_count": 30
    },
    {
      "cell_type": "code",
      "source": "##creating a for loop in rage\nfor n in range(0,9):\n   print(n)",
      "metadata": {
        "trusted": true
      },
      "outputs": [
        {
          "name": "stdout",
          "text": "0\n1\n2\n3\n4\n5\n6\n7\n8\n",
          "output_type": "stream"
        }
      ],
      "execution_count": 33
    },
    {
      "cell_type": "code",
      "source": "list(range(0,7))",
      "metadata": {
        "trusted": true
      },
      "outputs": [
        {
          "execution_count": 40,
          "output_type": "execute_result",
          "data": {
            "text/plain": "[0, 1, 2, 3, 4, 5, 6]"
          },
          "metadata": {}
        }
      ],
      "execution_count": 40
    },
    {
      "cell_type": "code",
      "source": "##creating a list with list comprehension\n##append fn doesn't return any value to the user. It adds the item to the list & updates it\n##hence the Attribute error\nsquare=[]\nfor n in range(0,9):\n    print(n**2)\n    square=print(n**2)\n    squares=square.append(square)",
      "metadata": {
        "trusted": true
      },
      "outputs": [
        {
          "name": "stdout",
          "text": "0\n0\n",
          "output_type": "stream"
        },
        {
          "ename": "<class 'AttributeError'>",
          "evalue": "'NoneType' object has no attribute 'append'",
          "traceback": [
            "\u001b[0;31m---------------------------------------------------------------------------\u001b[0m",
            "\u001b[0;31mAttributeError\u001b[0m                            Traceback (most recent call last)",
            "Cell \u001b[0;32mIn[43], line 6\u001b[0m\n\u001b[1;32m      4\u001b[0m \u001b[38;5;28mprint\u001b[39m(n\u001b[38;5;241m*\u001b[39m\u001b[38;5;241m*\u001b[39m\u001b[38;5;241m2\u001b[39m)\n\u001b[1;32m      5\u001b[0m square\u001b[38;5;241m=\u001b[39m\u001b[38;5;28mprint\u001b[39m(n\u001b[38;5;241m*\u001b[39m\u001b[38;5;241m*\u001b[39m\u001b[38;5;241m2\u001b[39m)\n\u001b[0;32m----> 6\u001b[0m squares\u001b[38;5;241m=\u001b[39m\u001b[43msquare\u001b[49m\u001b[38;5;241;43m.\u001b[39;49m\u001b[43mappend\u001b[49m(square)\n",
            "\u001b[0;31mAttributeError\u001b[0m: 'NoneType' object has no attribute 'append'"
          ],
          "output_type": "error"
        }
      ],
      "execution_count": 43
    },
    {
      "cell_type": "code",
      "source": "##list comprehension\nsquare=[value **2 for value in range(0,9)]\nprint(square)",
      "metadata": {
        "trusted": true
      },
      "outputs": [
        {
          "name": "stdout",
          "text": "[0, 1, 4, 9, 16, 25, 36, 49, 64]\n",
          "output_type": "stream"
        }
      ],
      "execution_count": 44
    },
    {
      "cell_type": "markdown",
      "source": "##Working with parts of a list- Slicing continuation",
      "metadata": {}
    },
    {
      "cell_type": "code",
      "source": "square",
      "metadata": {
        "trusted": true
      },
      "outputs": [
        {
          "execution_count": 45,
          "output_type": "execute_result",
          "data": {
            "text/plain": "[0, 1, 4, 9, 16, 25, 36, 49, 64]"
          },
          "metadata": {}
        }
      ],
      "execution_count": 45
    },
    {
      "cell_type": "code",
      "source": "square[0:5]",
      "metadata": {
        "trusted": true
      },
      "outputs": [
        {
          "execution_count": 46,
          "output_type": "execute_result",
          "data": {
            "text/plain": "[0, 1, 4, 9, 16]"
          },
          "metadata": {}
        }
      ],
      "execution_count": 46
    },
    {
      "cell_type": "code",
      "source": "#for loop and a slice\nfor n in square[:5]:\n    print(n**2)",
      "metadata": {
        "trusted": true
      },
      "outputs": [
        {
          "name": "stdout",
          "text": "0\n1\n16\n81\n256\n",
          "output_type": "stream"
        }
      ],
      "execution_count": 51
    },
    {
      "cell_type": "code",
      "source": "##copy of a list\nsquare_copy=square[:]\nprint(square_copy)",
      "metadata": {
        "trusted": true
      },
      "outputs": [
        {
          "name": "stdout",
          "text": "[0, 1, 4, 9, 16, 25, 36, 49, 64]\n",
          "output_type": "stream"
        }
      ],
      "execution_count": 55
    },
    {
      "cell_type": "markdown",
      "source": "##Styling your code",
      "metadata": {}
    },
    {
      "cell_type": "code",
      "source": "#pep8 is a style guide for writing readable code. based on 'you get to read more code than write'\n#Pep8 link- https://peps.python.org/pep-0008/\n#Pep8 covers Errors-Indentation, Tabs & spaces, Maximum number of lines-72 line lengths\n#Blank Lines\n#import statements-importing modules/packages\n#string='string'\n",
      "metadata": {
        "trusted": true
      },
      "outputs": [],
      "execution_count": null
    },
    {
      "cell_type": "markdown",
      "source": "##Data Structures",
      "metadata": {}
    },
    {
      "cell_type": "markdown",
      "source": "#Tuples-Immutable",
      "metadata": {}
    },
    {
      "cell_type": "code",
      "source": "",
      "metadata": {
        "trusted": true
      },
      "outputs": [],
      "execution_count": null
    }
  ]
}